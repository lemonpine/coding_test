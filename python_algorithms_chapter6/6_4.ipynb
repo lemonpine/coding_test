{
 "cells": [
  {
   "cell_type": "markdown",
   "metadata": {},
   "source": [
    "https://leetcode.com/problems/most-common-word/"
   ]
  },
  {
   "cell_type": "code",
   "execution_count": 90,
   "metadata": {},
   "outputs": [],
   "source": [
    "### b,b >> 이건 bb 라고 가정했었는데 b b 이렇게 분리된 문자이어야하네\n",
    "\n",
    "import collections\n",
    "class Solution(object):\n",
    "    def mostCommonWord(self, paragraph, banned):\n",
    "        \"\"\"\n",
    "        :type paragraph: str\n",
    "        :type banned: List[str]\n",
    "        :rtype: str\n",
    "        \"\"\"\n",
    "        paragraph = [''.join(filter(str.isalnum, string)) for string in paragraph.lower().split(\" \") if ''.join(filter(str.isalnum, string)) not in banned]\n",
    "#         paragraph = collections.Counter(paragraph)\n",
    "        return sorted(collections.Counter(paragraph).items(), key = lambda item: item[1], reverse = True)[0][0]\n",
    "        \n",
    "#         print(paragraph.items())\n",
    "        \n",
    "        \n",
    "#         return collections.Counter(paragraph)[0]\n",
    "        \n",
    "        \n",
    "#         def alnum_filter(string):\n",
    "#             if ''.join(filter(str.isalnum, string)) in banned:\n",
    "#                 return None\n",
    "#             else:\n",
    "#                 return ''.join(filter(str.isalnum, string))\n",
    "#         paragraph_list = list(map(alnum_filter, paragraph.split(\" \")))\n",
    "\n",
    "#         print(collections.Counter(paragraph_list))\n",
    "        \n",
    "        "
   ]
  },
  {
   "cell_type": "code",
   "execution_count": 105,
   "metadata": {},
   "outputs": [],
   "source": [
    "# 51 ms\t14.2 MB\tpython3\n",
    "# 너무 한문장으로 압축하려 했고..\n",
    "\n",
    "import collections\n",
    "class Solution(object):\n",
    "    def mostCommonWord(self, paragraph, banned):\n",
    "        \"\"\"\n",
    "        :type paragraph: str\n",
    "        :type banned: List[str]\n",
    "        :rtype: str\n",
    "        \"\"\"\n",
    "        paragraph = [word for word in ''.join(list(map(lambda x : x if x.isalpha() else \" \", paragraph.lower()))).replace(\"  \", \" \").split(\" \") if word not in banned]\n",
    "        return sorted(collections.Counter(paragraph).items(), key = lambda item: item[1], reverse = True)[0][0]\n",
    "        \n",
    "        \n",
    "\n",
    "        "
   ]
  },
  {
   "cell_type": "code",
   "execution_count": 120,
   "metadata": {},
   "outputs": [],
   "source": [
    "# 32 ms\t14.3 MB\tpython3\n",
    "# 오히려 풀어쓴게 더욱 직관적\n",
    "\n",
    "import collections\n",
    "class Solution(object):\n",
    "    def mostCommonWord(self, paragraph, banned):\n",
    "        \"\"\"\n",
    "        :type paragraph: str\n",
    "        :type banned: List[str]\n",
    "        :rtype: str\n",
    "        \"\"\"\n",
    "        \n",
    "        word_list = []\n",
    "        word = ''\n",
    "        for char in paragraph + '.':\n",
    "            if char.isalpha():\n",
    "                word += char.lower()\n",
    "            else:\n",
    "                if len(word) > 0 and word not in banned:\n",
    "                    word_list.append(word)\n",
    "                word = ''\n",
    "        \n",
    "        return sorted(collections.Counter(word_list).items(), key = lambda item: item[1], reverse = True)[0][0]\n",
    "#         paragraph = [word for word in ''.join(list(map(lambda x : x if x.isalpha() else \" \", paragraph.lower()))).replace(\"  \", \" \").split(\" \") if word not in banned]\n",
    "#         return sorted(collections.Counter(paragraph).items(), key = lambda item: item[1], reverse = True)[0][0]\n",
    "        \n",
    "        \n",
    "\n",
    "        "
   ]
  },
  {
   "cell_type": "code",
   "execution_count": 121,
   "metadata": {},
   "outputs": [
    {
     "data": {
      "text/plain": [
       "'bob'"
      ]
     },
     "execution_count": 121,
     "metadata": {},
     "output_type": "execute_result"
    }
   ],
   "source": [
    "paragraph = \"Bob hit a ball, the hit BALL flew far after it was hit.\"\n",
    "banned = [\"hit\"]\n",
    "\n",
    "\n",
    "\n",
    "S = Solution()\n",
    "# S.mostCommonWord(paragraph, banned)\n",
    "S.mostCommonWord(\"Bob\", [])"
   ]
  },
  {
   "cell_type": "code",
   "execution_count": 92,
   "metadata": {},
   "outputs": [
    {
     "data": {
      "text/plain": [
       "['11', '', '1', '1']"
      ]
     },
     "execution_count": 92,
     "metadata": {},
     "output_type": "execute_result"
    }
   ],
   "source": [
    "\"1122121\".split(\"1\")"
   ]
  },
  {
   "cell_type": "code",
   "execution_count": null,
   "metadata": {},
   "outputs": [],
   "source": []
  }
 ],
 "metadata": {
  "kernelspec": {
   "display_name": "Python 3",
   "language": "python",
   "name": "python3"
  },
  "language_info": {
   "codemirror_mode": {
    "name": "ipython",
    "version": 3
   },
   "file_extension": ".py",
   "mimetype": "text/x-python",
   "name": "python",
   "nbconvert_exporter": "python",
   "pygments_lexer": "ipython3",
   "version": "3.8.5"
  }
 },
 "nbformat": 4,
 "nbformat_minor": 4
}
