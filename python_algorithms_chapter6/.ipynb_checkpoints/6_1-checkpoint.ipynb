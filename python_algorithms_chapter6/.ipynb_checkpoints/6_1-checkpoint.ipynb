{
 "cells": [
  {
   "cell_type": "code",
   "execution_count": 57,
   "metadata": {},
   "outputs": [],
   "source": [
    "def problem6_1(input_str):\n",
    "    ## 공백, 대소문자 구분없이 앞뒤가 똑같은 문자열인지 아닌지 판별하는 문제\n",
    "\n",
    "    input_str = input_str.replace(' ', '')\n",
    "    input_str = input_str.upper()\n",
    "    \n",
    "    list_str = \"\".join([i for i in input_str if i.isalnum()])\n",
    "#     print(list_str, len(list_str))\n",
    "    \n",
    "    bPLDR = True\n",
    "    total_len = len(list_str)\n",
    "    for n in range(int((len(list_str) + 1)/2)):\n",
    "        print(list_str[n], list_str[len(list_str) - n - 1])\n",
    "        if list_str[n] != list_str[len(list_str) - n - 1]:\n",
    "            bPLDR = False\n",
    "            break\n",
    "    \n",
    "    return bPLDR"
   ]
  },
  {
   "cell_type": "code",
   "execution_count": 51,
   "metadata": {},
   "outputs": [],
   "source": [
    "def problem6_1(input_str):\n",
    "    ## 공백, 대소문자 구분없이 앞뒤가 똑같은 문자열인지 아닌지 판별하는 문제\n",
    "\n",
    "    input_str = input_str.replace(' ', '')\n",
    "    list_str = list(input_str)\n",
    "    \n",
    "    bPLDR = True\n",
    "    while len(list_str) > 1:\n",
    "        if list_str[0].isalnum():\n",
    "            if list_str[len(list_str) - 1].isalnum():\n",
    "                if list_str[0].upper() != list_str[len(list_str) - 1].upper():\n",
    "                    bPLDR = False\n",
    "                    break\n",
    "                else:\n",
    "                    list_str.pop(0)\n",
    "                    list_str.pop()\n",
    "            else:\n",
    "                list_str.pop()\n",
    "        else:\n",
    "            list_str.pop(0)           \n",
    "    \n",
    "    return bPLDR"
   ]
  },
  {
   "cell_type": "code",
   "execution_count": 66,
   "metadata": {},
   "outputs": [],
   "source": [
    "class Solution:\n",
    "    def isPalindrome(self, s: str) -> bool:\n",
    "\n",
    "\n",
    "        # s = \"\".join([i.lower() for i in s if i.isalnum()])\n",
    "        s = ''.join(filter(str.isalnum,s))\n",
    "        s = s.lower()\n",
    "\n",
    "        return s[int((len(s)+1)/2):] == s[:int((len(s))/2)][::-1]"
   ]
  },
  {
   "cell_type": "code",
   "execution_count": 67,
   "metadata": {},
   "outputs": [
    {
     "ename": "TypeError",
     "evalue": "isPalindrome() missing 1 required positional argument: 's'",
     "output_type": "error",
     "traceback": [
      "\u001b[1;31m---------------------------------------------------------------------------\u001b[0m",
      "\u001b[1;31mTypeError\u001b[0m                                 Traceback (most recent call last)",
      "\u001b[1;32m<timed exec>\u001b[0m in \u001b[0;36m<module>\u001b[1;34m\u001b[0m\n",
      "\u001b[1;31mTypeError\u001b[0m: isPalindrome() missing 1 required positional argument: 's'"
     ]
    }
   ],
   "source": [
    "%%time\n",
    "input1 = \"A man, a plan, a canal: Panama\"\n",
    "input2 = \"race a car\"\n",
    "input3 = \"......a.....\"\n",
    "Solution.isPalindrome(input1)"
   ]
  },
  {
   "cell_type": "code",
   "execution_count": null,
   "metadata": {},
   "outputs": [],
   "source": []
  }
 ],
 "metadata": {
  "kernelspec": {
   "display_name": "Python 3",
   "language": "python",
   "name": "python3"
  },
  "language_info": {
   "codemirror_mode": {
    "name": "ipython",
    "version": 3
   },
   "file_extension": ".py",
   "mimetype": "text/x-python",
   "name": "python",
   "nbconvert_exporter": "python",
   "pygments_lexer": "ipython3",
   "version": "3.8.5"
  }
 },
 "nbformat": 4,
 "nbformat_minor": 4
}
