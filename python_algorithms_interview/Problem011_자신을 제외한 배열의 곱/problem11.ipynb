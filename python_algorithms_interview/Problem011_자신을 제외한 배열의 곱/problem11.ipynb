{
 "cells": [
  {
   "cell_type": "markdown",
   "metadata": {},
   "source": [
    "https://leetcode.com/problems/product-of-array-except-self/"
   ]
  },
  {
   "cell_type": "code",
   "execution_count": 8,
   "metadata": {},
   "outputs": [],
   "source": [
    "# 1548 ms\t40.5 MB\tpython3\n",
    "# Runtime: 1548 ms, faster than 5.05% of Python3 online submissions for Product of Array Except Self.\n",
    "# Memory Usage: 40.5 MB, less than 7.90% of Python3 online submissions for Product of Array Except Self.\n",
    "import numpy as np\n",
    "from typing import List\n",
    "class Solution:\n",
    "    def productExceptSelf(self, nums: List[int]) -> List[int]:\n",
    "        result = np.ones(len(nums), dtype = np.int16)\n",
    "        for n, val in enumerate(nums):\n",
    "            result[:n] *= val\n",
    "            result[n+1:] *= val\n",
    "        \n",
    "        return list(result)"
   ]
  },
  {
   "cell_type": "code",
   "execution_count": 10,
   "metadata": {},
   "outputs": [],
   "source": [
    "# 232 ms\t21.2 MB\tpython3\n",
    "# Runtime: 232 ms, faster than 83.89% of Python3 online submissions for Product of Array Except Self.\n",
    "# Memory Usage: 21.2 MB, less than 59.22% of Python3 online submissions for Product of Array Except Self.\n",
    "from typing import List\n",
    "class Solution:\n",
    "    def productExceptSelf(self, nums: List[int]) -> List[int]:\n",
    "        result = []\n",
    "        # left product\n",
    "        p = 1\n",
    "        for i in range(len(nums)):\n",
    "            result.append(p)\n",
    "            p *= nums[i]\n",
    "\n",
    "        # right product\n",
    "        p = 1\n",
    "        for i in range(len(nums) - 1, -1 , -1):\n",
    "            result[i] = result[i] * p\n",
    "            p *= nums[i]\n",
    "        \n",
    "        return result"
   ]
  },
  {
   "cell_type": "code",
   "execution_count": 12,
   "metadata": {},
   "outputs": [
    {
     "data": {
      "text/plain": [
       "[0, 0, 9, 0, 0]"
      ]
     },
     "execution_count": 12,
     "metadata": {},
     "output_type": "execute_result"
    }
   ],
   "source": [
    "nums1 = [1,2,3,4]\n",
    "nums2 = [-1,1,0,-3,3]\n",
    "S = Solution()\n",
    "S.productExceptSelf(nums2)"
   ]
  },
  {
   "cell_type": "code",
   "execution_count": null,
   "metadata": {},
   "outputs": [],
   "source": []
  }
 ],
 "metadata": {
  "kernelspec": {
   "display_name": "Python 3",
   "language": "python",
   "name": "python3"
  },
  "language_info": {
   "codemirror_mode": {
    "name": "ipython",
    "version": 3
   },
   "file_extension": ".py",
   "mimetype": "text/x-python",
   "name": "python",
   "nbconvert_exporter": "python",
   "pygments_lexer": "ipython3",
   "version": "3.8.5"
  }
 },
 "nbformat": 4,
 "nbformat_minor": 4
}
