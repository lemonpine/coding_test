{
 "cells": [
  {
   "cell_type": "markdown",
   "metadata": {},
   "source": [
    "https://leetcode.com/problems/reorder-data-in-log-files/submissions/"
   ]
  },
  {
   "cell_type": "code",
   "execution_count": 4,
   "metadata": {},
   "outputs": [],
   "source": [
    "# 28 ms\t13.5 MB\tpython\n",
    "\n",
    "class Solution(object):\n",
    "    def reorderLogFiles(self, logs):\n",
    "        \"\"\"\n",
    "        :type logs: List[str]\n",
    "        :rtype: List[str]\n",
    "        \"\"\"\n",
    "        type_dict = {}\n",
    "        type_dict['alpha'] = []\n",
    "        type_dict['digit'] = []\n",
    "        for log in logs:\n",
    "            if log.split(\" \")[1].isalpha():\n",
    "                type_dict['alpha'].append(log)\n",
    "            else:\n",
    "                type_dict['digit'].append(log)\n",
    "        \n",
    "        type_dict['alpha'].sort(key = lambda x :(\" \".join(x.split(\" \")[1:]), x.split(\" \")[0]))\n",
    "        \n",
    "        \n",
    "        return type_dict['alpha'] + type_dict['digit']\n",
    "        "
   ]
  },
  {
   "cell_type": "code",
   "execution_count": 12,
   "metadata": {},
   "outputs": [],
   "source": [
    "# 20 ms\t13.8 MB\tpython\n",
    "\n",
    "class Solution(object):\n",
    "    def reorderLogFiles(self, logs):\n",
    "        \"\"\"\n",
    "        :type logs: List[str]\n",
    "        :rtype: List[str]\n",
    "        \"\"\"\n",
    "\n",
    "        n, alpha_list = 0, []\n",
    "        while n < len(logs):\n",
    "            if logs[n].split(\" \")[1].isdigit():\n",
    "                alpha_list.append(logs.pop(n))\n",
    "            else:\n",
    "                n += 1\n",
    "                \n",
    "        logs.sort(key = lambda x :(\" \".join(x.split(\" \")[1:]), x.split(\" \")[0]))\n",
    "        \n",
    "        return logs + alpha_list\n",
    "        "
   ]
  },
  {
   "cell_type": "code",
   "execution_count": 14,
   "metadata": {},
   "outputs": [],
   "source": [
    "# 20 ms\t13.9 MB\tpython\n",
    "\n",
    "class Solution(object):\n",
    "    def reorderLogFiles(self, logs):\n",
    "        \"\"\"\n",
    "        :type logs: List[str]\n",
    "        :rtype: List[str]\n",
    "        \"\"\"\n",
    "\n",
    "        n, alpha_list = 0, []\n",
    "        while n < len(logs):\n",
    "            if logs[n][logs[n].find(\" \") + 1].isdigit():\n",
    "                alpha_list.append(logs.pop(n))\n",
    "            else:\n",
    "                n += 1\n",
    "                \n",
    "        logs.sort(key = lambda x :(x[x.find(\" \") + 1:], x[:x.find(\" \")]))\n",
    "        \n",
    "        return logs + alpha_list"
   ]
  },
  {
   "cell_type": "code",
   "execution_count": 15,
   "metadata": {},
   "outputs": [
    {
     "data": {
      "text/plain": [
       "['let1 art can',\n",
       " 'let3 art zero',\n",
       " 'let2 own kit dig',\n",
       " 'dig1 8 1 5 1',\n",
       " 'dig2 3 6']"
      ]
     },
     "execution_count": 15,
     "metadata": {},
     "output_type": "execute_result"
    }
   ],
   "source": [
    "input1 = [\"dig1 8 1 5 1\",\"let1 art can\",\"dig2 3 6\",\"let2 own kit dig\",\"let3 art zero\"]\n",
    "S = Solution()\n",
    "S.reorderLogFiles(input1)"
   ]
  },
  {
   "cell_type": "code",
   "execution_count": null,
   "metadata": {},
   "outputs": [],
   "source": []
  }
 ],
 "metadata": {
  "kernelspec": {
   "display_name": "Python 3",
   "language": "python",
   "name": "python3"
  },
  "language_info": {
   "codemirror_mode": {
    "name": "ipython",
    "version": 3
   },
   "file_extension": ".py",
   "mimetype": "text/x-python",
   "name": "python",
   "nbconvert_exporter": "python",
   "pygments_lexer": "ipython3",
   "version": "3.8.5"
  }
 },
 "nbformat": 4,
 "nbformat_minor": 4
}
