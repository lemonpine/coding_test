{
 "cells": [
  {
   "cell_type": "markdown",
   "metadata": {},
   "source": [
    "https://leetcode.com/problems/palindrome-linked-list/"
   ]
  },
  {
   "cell_type": "code",
   "execution_count": 4,
   "metadata": {},
   "outputs": [],
   "source": [
    "# Definition for singly-linked list.\n",
    "class ListNode:\n",
    "    def __init__(self, val=0, next=None):\n",
    "        self.val = val\n",
    "        self.next = next"
   ]
  },
  {
   "cell_type": "code",
   "execution_count": 9,
   "metadata": {},
   "outputs": [],
   "source": [
    "# 824 ms\t47.2 MB\tpython3\n",
    "# Runtime: 824 ms, faster than 53.68% of Python3 online submissions for Palindrome Linked List.\n",
    "# Memory Usage: 47.2 MB, less than 43.36% of Python3 online submissions for Palindrome Linked List.\n",
    "from typing import Optional\n",
    "class Solution:\n",
    "    def isPalindrome(self, head: Optional[ListNode]) -> bool:\n",
    "        num_list = []\n",
    "        node = head\n",
    "        while node:\n",
    "            num_list.append(node.val)\n",
    "            node = node.next\n",
    "        \n",
    "        return num_list == num_list[::-1]"
   ]
  },
  {
   "cell_type": "code",
   "execution_count": 10,
   "metadata": {},
   "outputs": [],
   "source": [
    "# 804 ms\t39.2 MB\tpython3\n",
    "# Runtime: 804 ms, faster than 65.37% of Python3 online submissions for Palindrome Linked List.\n",
    "# Memory Usage: 39.2 MB, less than 87.14% of Python3 online submissions for Palindrome Linked List.\n",
    "from typing import Optional\n",
    "class Solution:\n",
    "    def isPalindrome(self, head: Optional[ListNode]) -> bool:\n",
    "        \n",
    "        while head == None or head.next == None:\n",
    "            return True\n",
    "        \n",
    "        # head.next -> one_jump_node is required one more step\n",
    "        one_jump_node, two_jump_node = head.next, head\n",
    "        while two_jump_node.next and two_jump_node.next.next:\n",
    "            two_jump_node = two_jump_node.next.next\n",
    "            one_jump_node = one_jump_node.next\n",
    "        \n",
    "        # Reverse\n",
    "        prev = None\n",
    "        while one_jump_node:\n",
    "            tmp1 = one_jump_node.next\n",
    "            one_jump_node.next = prev\n",
    "            prev = one_jump_node\n",
    "            one_jump_node = tmp1\n",
    "        \n",
    "        # half of node vs rever half of node\n",
    "        while prev:\n",
    "            if head.val != prev.val:\n",
    "                return False\n",
    "            head, prev = head.next, prev.next\n",
    "       \n",
    "        return True"
   ]
  },
  {
   "cell_type": "code",
   "execution_count": 12,
   "metadata": {},
   "outputs": [
    {
     "data": {
      "text/plain": [
       "True"
      ]
     },
     "execution_count": 12,
     "metadata": {},
     "output_type": "execute_result"
    }
   ],
   "source": [
    "# head1 = [1,2,2,1]\n",
    "tmp1 = ListNode(1)\n",
    "tmp2 = ListNode(2)\n",
    "tmp3 = ListNode(2)\n",
    "tmp4 = ListNode(1)\n",
    "tmp1.next = tmp2\n",
    "tmp2.next = tmp3\n",
    "tmp3.next = tmp4\n",
    "head1 = tmp1\n",
    "\n",
    "tmp1 = ListNode(1)\n",
    "tmp2 = ListNode(2)\n",
    "tmp1.next = tmp2\n",
    "head2 = tmp1\n",
    "\n",
    "S = Solution()\n",
    "S.isPalindrome(head1)"
   ]
  },
  {
   "cell_type": "code",
   "execution_count": null,
   "metadata": {},
   "outputs": [],
   "source": []
  },
  {
   "cell_type": "code",
   "execution_count": 18,
   "metadata": {},
   "outputs": [],
   "source": [
    "import numpy as np\n",
    "prices1 = [5, 3,13,7,1,5,3,6,4]\n",
    "A = np.argsort(prices1)\n"
   ]
  },
  {
   "cell_type": "code",
   "execution_count": 24,
   "metadata": {},
   "outputs": [
    {
     "data": {
      "text/plain": [
       "4"
      ]
     },
     "execution_count": 24,
     "metadata": {},
     "output_type": "execute_result"
    }
   ],
   "source": [
    "len(np.where(A > 4)[0])"
   ]
  },
  {
   "cell_type": "code",
   "execution_count": null,
   "metadata": {},
   "outputs": [],
   "source": []
  }
 ],
 "metadata": {
  "kernelspec": {
   "display_name": "Python 3",
   "language": "python",
   "name": "python3"
  },
  "language_info": {
   "codemirror_mode": {
    "name": "ipython",
    "version": 3
   },
   "file_extension": ".py",
   "mimetype": "text/x-python",
   "name": "python",
   "nbconvert_exporter": "python",
   "pygments_lexer": "ipython3",
   "version": "3.8.5"
  }
 },
 "nbformat": 4,
 "nbformat_minor": 4
}
