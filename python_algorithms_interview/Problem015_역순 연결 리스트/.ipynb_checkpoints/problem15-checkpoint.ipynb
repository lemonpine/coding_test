{
 "cells": [
  {
   "cell_type": "markdown",
   "metadata": {},
   "source": [
    "https://leetcode.com/problems/merge-two-sorted-lists/"
   ]
  },
  {
   "cell_type": "code",
   "execution_count": 1,
   "metadata": {},
   "outputs": [],
   "source": [
    "# Definition for singly-linked list.\n",
    "class ListNode:\n",
    "    def __init__(self, val=0, next=None):\n",
    "        self.val = val\n",
    "        self.next = next"
   ]
  },
  {
   "cell_type": "code",
   "execution_count": 9,
   "metadata": {},
   "outputs": [],
   "source": [
    "# 32 ms\t14.3 MB\tpython3\n",
    "# Runtime: 32 ms, faster than 91.95% of Python3 online submissions for Merge Two Sorted Lists.\n",
    "# Memory Usage: 14.3 MB, less than 31.91% of Python3 online submissions for Merge Two Sorted Lists.\n",
    "from typing import Optional\n",
    "class Solution:\n",
    "    def mergeTwoLists(self, list1: Optional[ListNode], list2: Optional[ListNode]) -> Optional[ListNode]:\n",
    "        head, tail = None, None\n",
    "        \n",
    "        if list1 is None:\n",
    "            return list2\n",
    "        if list2 is None:\n",
    "            return list1\n",
    "        \n",
    "        while list1 and list2:\n",
    "            if list1.val <= list2.val:\n",
    "                tmp = list1.next\n",
    "                list1.next = None\n",
    "                if head == None:\n",
    "                    tail = list1\n",
    "                    head = tail\n",
    "                else:\n",
    "                    tail.next = list1\n",
    "                    tail = list1\n",
    "                list1 = tmp\n",
    "            else:\n",
    "                tmp = list2.next\n",
    "                list2.next = None\n",
    "                if head == None:\n",
    "                    tail = list2\n",
    "                    head = tail\n",
    "                else:\n",
    "                    tail.next = list2\n",
    "                    tail = list2\n",
    "                list2 = tmp\n",
    "        if list1:\n",
    "            tail.next = list1\n",
    "        elif list2:\n",
    "            tail.next = list2\n",
    "        return head\n",
    "        "
   ]
  },
  {
   "cell_type": "code",
   "execution_count": 15,
   "metadata": {},
   "outputs": [],
   "source": [
    "# 40 ms\t14.5 MB\tpython3\n",
    "# Runtime: 40 ms, faster than 49.42% of Python3 online submissions for Merge Two Sorted Lists.\n",
    "# Memory Usage: 14.5 MB, less than 31.91% of Python3 online submissions for Merge Two Sorted Lists.\n",
    "from typing import Optional\n",
    "class Solution:\n",
    "    def mergeTwoLists(self, list1: Optional[ListNode], list2: Optional[ListNode]) -> Optional[ListNode]:\n",
    "        \n",
    "        if list1 is None or (list2 and list1.val > list2.val):\n",
    "            list1, list2 = list2, list1\n",
    "        if list1:\n",
    "            list1.next = self.mergeTwoLists(list1.next, list2)\n",
    "        return list1"
   ]
  },
  {
   "cell_type": "code",
   "execution_count": 17,
   "metadata": {},
   "outputs": [],
   "source": [
    "# head1 = [1,2,2,1]\n",
    "tmp1 = ListNode(1)\n",
    "tmp2 = ListNode(2)\n",
    "tmp3 = ListNode(4)\n",
    "tmp1.next = tmp2\n",
    "tmp2.next = tmp3\n",
    "list1_1 = tmp1\n",
    "\n",
    "tmp1 = ListNode(1)\n",
    "tmp2 = ListNode(3)\n",
    "tmp3 = ListNode(4)\n",
    "tmp1.next = tmp2\n",
    "tmp2.next = tmp3\n",
    "list1_2 = tmp1\n",
    "\n",
    "list2_1 = None\n",
    "list2_2 = None\n",
    "\n",
    "list3_1 = None\n",
    "list3_2 = ListNode(0)\n",
    "    \n",
    "S = Solution()\n",
    "S.mergeTwoLists(list2_1, list2_2)"
   ]
  },
  {
   "cell_type": "code",
   "execution_count": null,
   "metadata": {},
   "outputs": [],
   "source": []
  },
  {
   "cell_type": "code",
   "execution_count": 18,
   "metadata": {},
   "outputs": [],
   "source": [
    "import numpy as np\n",
    "prices1 = [5, 3,13,7,1,5,3,6,4]\n",
    "A = np.argsort(prices1)\n"
   ]
  },
  {
   "cell_type": "code",
   "execution_count": 24,
   "metadata": {},
   "outputs": [
    {
     "data": {
      "text/plain": [
       "4"
      ]
     },
     "execution_count": 24,
     "metadata": {},
     "output_type": "execute_result"
    }
   ],
   "source": [
    "len(np.where(A > 4)[0])"
   ]
  },
  {
   "cell_type": "code",
   "execution_count": null,
   "metadata": {},
   "outputs": [],
   "source": []
  }
 ],
 "metadata": {
  "kernelspec": {
   "display_name": "Python 3",
   "language": "python",
   "name": "python3"
  },
  "language_info": {
   "codemirror_mode": {
    "name": "ipython",
    "version": 3
   },
   "file_extension": ".py",
   "mimetype": "text/x-python",
   "name": "python",
   "nbconvert_exporter": "python",
   "pygments_lexer": "ipython3",
   "version": "3.8.5"
  }
 },
 "nbformat": 4,
 "nbformat_minor": 4
}
