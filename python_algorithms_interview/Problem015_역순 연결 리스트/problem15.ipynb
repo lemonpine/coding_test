{
 "cells": [
  {
   "cell_type": "markdown",
   "metadata": {},
   "source": [
    "https://leetcode.com/problems/reverse-linked-list/"
   ]
  },
  {
   "cell_type": "code",
   "execution_count": 1,
   "metadata": {},
   "outputs": [],
   "source": [
    "# Definition for singly-linked list.\n",
    "class ListNode:\n",
    "    def __init__(self, val=0, next=None):\n",
    "        self.val = val\n",
    "        self.next = next"
   ]
  },
  {
   "cell_type": "code",
   "execution_count": 9,
   "metadata": {},
   "outputs": [],
   "source": [
    "# 28 ms\t15.6 MB\tpython3\n",
    "# Runtime: 28 ms, faster than 96.37% of Python3 online submissions for Reverse Linked List.\n",
    "# Memory Usage: 15.6 MB, less than 76.59% of Python3 online submissions for Reverse Linked List.\n",
    "from typing import Optional\n",
    "class Solution:\n",
    "    def reverseList(self, head: Optional[ListNode]) -> Optional[ListNode]:\n",
    "        \n",
    "        reverse = None\n",
    "        while head:\n",
    "            tmp = head.next\n",
    "            head.next = reverse\n",
    "            reverse = head\n",
    "            head = tmp\n",
    "        \n",
    "        return reverse"
   ]
  },
  {
   "cell_type": "code",
   "execution_count": 17,
   "metadata": {},
   "outputs": [],
   "source": [
    "# head1 = [1,2,3,4,5]\n",
    "tmp1 = ListNode(1)\n",
    "tmp2 = ListNode(2)\n",
    "tmp3 = ListNode(3)\n",
    "tmp4 = ListNode(4)\n",
    "tmp5 = ListNode(5)\n",
    "tmp1.next = tmp2\n",
    "tmp2.next = tmp3\n",
    "tmp3.next = tmp4\n",
    "tmp4.next = tmp5\n",
    "head1 = tmp1\n",
    "\n",
    "# head2 = [1,2]\n",
    "tmp1 = ListNode(1)\n",
    "tmp2 = ListNode(2)\n",
    "tmp1.next = tmp2\n",
    "head2 = tmp1\n",
    "\n",
    "head3 = None\n",
    "   \n",
    "S = Solution()\n",
    "S.reverseList(head1)"
   ]
  },
  {
   "cell_type": "code",
   "execution_count": null,
   "metadata": {},
   "outputs": [],
   "source": []
  },
  {
   "cell_type": "code",
   "execution_count": 18,
   "metadata": {},
   "outputs": [],
   "source": [
    "import numpy as np\n",
    "prices1 = [5, 3,13,7,1,5,3,6,4]\n",
    "A = np.argsort(prices1)\n"
   ]
  },
  {
   "cell_type": "code",
   "execution_count": 24,
   "metadata": {},
   "outputs": [
    {
     "data": {
      "text/plain": [
       "4"
      ]
     },
     "execution_count": 24,
     "metadata": {},
     "output_type": "execute_result"
    }
   ],
   "source": [
    "len(np.where(A > 4)[0])"
   ]
  },
  {
   "cell_type": "code",
   "execution_count": null,
   "metadata": {},
   "outputs": [],
   "source": []
  }
 ],
 "metadata": {
  "kernelspec": {
   "display_name": "Python 3",
   "language": "python",
   "name": "python3"
  },
  "language_info": {
   "codemirror_mode": {
    "name": "ipython",
    "version": 3
   },
   "file_extension": ".py",
   "mimetype": "text/x-python",
   "name": "python",
   "nbconvert_exporter": "python",
   "pygments_lexer": "ipython3",
   "version": "3.8.5"
  }
 },
 "nbformat": 4,
 "nbformat_minor": 4
}
