{
 "cells": [
  {
   "cell_type": "markdown",
   "metadata": {},
   "source": [
    "https://leetcode.com/problems/longest-palindromic-substring/"
   ]
  },
  {
   "cell_type": "code",
   "execution_count": 68,
   "metadata": {},
   "outputs": [],
   "source": [
    "# 7352 ms\t14.2 MB\tpython3\n",
    "# Runtime: 7352 ms, faster than 12.80% of Python3 online submissions for Longest Palindromic Substring.\n",
    "# Memory Usage: 14.2 MB, less than 93.72% of Python3 online submissions for Longest Palindromic Substring.\n",
    "    \n",
    "class Solution:\n",
    "    def longestPalindrome(self, s: str) -> str:\n",
    "        long_Palind = s[-1]\n",
    "        for reverse_n, n in enumerate(range(len(s) - 1,  -1, -1)):\n",
    "            first_n = 0\n",
    "            while s.find(s[n], first_n) < n:\n",
    "                k = s.find(s[n], first_n)\n",
    "                if s[k:k+int((len(s) - k - reverse_n)/2)][::-1] == s[k + int((len(s) + 1 - k - reverse_n)/2): n + 1]: \n",
    "                    if len(long_Palind) < n + 1 - k:\n",
    "                        long_Palind = s[k:n + 1]\n",
    "                first_n = k + 1\n",
    "        \n",
    "        \n",
    "        return long_Palind\n",
    "        "
   ]
  },
  {
   "cell_type": "code",
   "execution_count": null,
   "metadata": {},
   "outputs": [],
   "source": [
    "# bababbac\n",
    "\n",
    "# 4 >> 2\n",
    "# int((6 - 1 - 1)/2)\n",
    "\n",
    "# 1 : 3  =  1 + int((6 - 1 - 1)/2)\n",
    "# 1 + int(6 - 1 - 1 + 1)/2 = 3 : 5 = 4 + 1\n",
    "# >> ab / ba\n",
    "\n",
    "# bbabbac\n",
    "\n",
    "# 4 >> 2\n",
    "# int((7 - 2 - 1)/2)\n",
    "\n",
    "# 2 : 4 = 2 + int((7 - 2 - 1)/2)\n",
    "# 2 + int(7 - 2 - 1 + 1)/2 = 4 : 6 = 5 + 1\n",
    "# >> ab / ba\n",
    "\n",
    "# babac\n",
    "\n",
    "# 3 >> 1\n",
    "# int((5 - 1 - 1)/2)\n",
    "\n",
    "# 1 : 2 = 1 + int((5 - 1 - 1)/2)\n",
    "# 1 + int((5 - 1 - 1 + 1)/2) = 3 : 4 = 3 + 1\n",
    "# >> a / a\n",
    "\n",
    "# bbabac\n",
    "\n",
    "# 3 >> 1\n",
    "# int((6 - 2 - 1)/2)\n",
    "\n",
    "# 2 : 3 = 2 + int((6 - 2 - 1)/2)\n",
    "# 2 + int((6 - 2 - 1 + 1)/2) = 4 : 5 = 4 + 1\n",
    "# >> a / a"
   ]
  },
  {
   "cell_type": "code",
   "execution_count": null,
   "metadata": {},
   "outputs": [],
   "source": [
    "# 1808 ms\t14.1 MB\tpython3\n",
    "# Runtime: 1808 ms, faster than 34.55% of Python3 online submissions for Longest Palindromic Substring.\n",
    "# Memory Usage: 14.1 MB, less than 93.72% of Python3 online submissions for Longest Palindromic Substring.\n",
    "\n",
    "class Solution:\n",
    "    def longestPalindrome(self, s: str) -> str:\n",
    "        long_Palind = s[-1]\n",
    "        for reverse_n, n in enumerate(range(len(s) - 1,  -1, -1)):\n",
    "            first_n = 0\n",
    "            while s.find(s[n], first_n) < n:\n",
    "                k = s.find(s[n], first_n)\n",
    "                if s[k:k+int((len(s) - k - reverse_n)/2)][::-1] == s[k + int((len(s) + 1 - k - reverse_n)/2): n + 1]: \n",
    "                    if len(long_Palind) < n + 1 - k:\n",
    "                        long_Palind = s[k:n + 1]\n",
    "                first_n = k + 1\n",
    "            \n",
    "            if len(long_Palind) >= n:\n",
    "                break\n",
    "        \n",
    "        return long_Palind\n",
    "        "
   ]
  },
  {
   "cell_type": "code",
   "execution_count": 16,
   "metadata": {},
   "outputs": [],
   "source": [
    "# 212 ms 14.4 MB\tpython3\n",
    "# Runtime: 212 ms, faster than 94.42% of Python3 online submissions for Longest Palindromic Substring.\n",
    "# Memory Usage: 14.4 MB, less than 35.74% of Python3 online submissions for Longest Palindromic Substring.\n",
    "\n",
    "class Solution:\n",
    "    def longestPalindrome(self, s: str) -> str:\n",
    "        \n",
    "        if len(s) <= 1 or s == s[::-1]:\n",
    "            return s\n",
    "        \n",
    "        def two_pointer_chk(left, right):\n",
    "            while left >= 0 and right < len(s) and s[left] == s[right]:\n",
    "                left -= 1\n",
    "                right += 1\n",
    "            return s[left + 1:right]\n",
    "            \n",
    "        long_Palind = ''\n",
    "        for i in range(len(s)):\n",
    "            long_Palind = max(long_Palind, \n",
    "                              two_pointer_chk(i, i+1), \n",
    "                              two_pointer_chk(i, i+2), key = len)\n",
    "            \n",
    "            if min(len(s) - i, i + 2)* 2 <= len(long_Palind):\n",
    "                break\n",
    "        \n",
    "        return long_Palind"
   ]
  },
  {
   "cell_type": "code",
   "execution_count": 19,
   "metadata": {},
   "outputs": [
    {
     "data": {
      "text/plain": [
       "'a'"
      ]
     },
     "execution_count": 19,
     "metadata": {},
     "output_type": "execute_result"
    }
   ],
   "source": [
    "s1 = \"babad\"\n",
    "s2 = \"cbbd\"\n",
    "s3 = \"a\"\n",
    "\n",
    "S = Solution()\n",
    "S.longestPalindrome(s3)"
   ]
  },
  {
   "cell_type": "code",
   "execution_count": 21,
   "metadata": {},
   "outputs": [
    {
     "name": "stdout",
     "output_type": "stream",
     "text": [
      "d 4 0 4\n",
      "\n",
      "\n",
      "a 3 1 1\n",
      "a\n",
      "a\n",
      "b 2 2 0\n",
      "b\n",
      "b\n",
      "a 1 3 1\n",
      "\n",
      "\n",
      "b 0 4 0\n",
      "\n",
      "\n"
     ]
    }
   ],
   "source": [
    "s1 = \"babad\"\n",
    "first_n = 0\n",
    "for l_n, n1 in enumerate(range(len(s1) -1, -1, -1)):\n",
    "    print(s1[n1], n1, l_n, se1.find(s1[n1]))\n",
    "    k = s1.find(s1[n1])\n",
    "    print(s1[k:k + int((len(s1) - k - l_n)/2)][::-1])\n",
    "    print(s1[k + int((len(s1) + 1- k - l_n)/2):n1 + 1] )"
   ]
  },
  {
   "cell_type": "code",
   "execution_count": 32,
   "metadata": {},
   "outputs": [
    {
     "data": {
      "text/plain": [
       "2"
      ]
     },
     "execution_count": 32,
     "metadata": {},
     "output_type": "execute_result"
    }
   ],
   "source": [
    "s1.find('b', 2)"
   ]
  }
 ],
 "metadata": {
  "kernelspec": {
   "display_name": "Python 3",
   "language": "python",
   "name": "python3"
  },
  "language_info": {
   "codemirror_mode": {
    "name": "ipython",
    "version": 3
   },
   "file_extension": ".py",
   "mimetype": "text/x-python",
   "name": "python",
   "nbconvert_exporter": "python",
   "pygments_lexer": "ipython3",
   "version": "3.8.5"
  }
 },
 "nbformat": 4,
 "nbformat_minor": 4
}
