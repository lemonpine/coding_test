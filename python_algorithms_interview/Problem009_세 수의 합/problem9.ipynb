{
 "cells": [
  {
   "cell_type": "markdown",
   "metadata": {},
   "source": [
    "https://leetcode.com/problems/3sum"
   ]
  },
  {
   "cell_type": "code",
   "execution_count": 1,
   "metadata": {},
   "outputs": [],
   "source": [
    "# Time Limit....\n",
    "\n",
    "from typing import List\n",
    "class Solution:\n",
    "    def threeSum(self, nums: List[int]) -> List[List[int]]:\n",
    "        \n",
    "        nums.sort()\n",
    "        return_list = []\n",
    "        for i in range(len(nums)):\n",
    "            for j in range(i+1, len(nums)):\n",
    "                for k in range(j + 1, len(nums)):\n",
    "                    if nums[i] + nums[j] + nums[k] == 0 and [nums[i], nums[j], nums[k]] not in return_list:\n",
    "                        return_list.append([nums[i], nums[j], nums[k]])\n",
    "        \n",
    "        return return_list"
   ]
  },
  {
   "cell_type": "code",
   "execution_count": 34,
   "metadata": {},
   "outputs": [],
   "source": [
    "import collections\n",
    "from typing import List\n",
    "class Solution:\n",
    "    def threeSum(self, nums: List[int]) -> List[List[int]]:\n",
    "        \n",
    "        return_list = []\n",
    "        minus_list, plus_list, zero_count = [], [], 0\n",
    "        twocount_list = []\n",
    "        for n, cnt in sorted(collections.Counter(nums).items(), key = lambda x : x[0]):\n",
    "            if n == 0:\n",
    "                zero_count = cnt\n",
    "            else:\n",
    "                if cnt >= 2:\n",
    "                    twocount_list.append(n)\n",
    "                if n < 0:\n",
    "                    minus_list.append(n)\n",
    "                else:\n",
    "                    plus_list.append(n)\n",
    "\n",
    "        \n",
    "        if zero_count >= 3:\n",
    "            return_list.append([0, 0, 0])\n",
    "        if zero_count >= 1:\n",
    "            for m in minus_list:\n",
    "                if -m in plus_list:\n",
    "                    return_list.append([m, 0, -m])\n",
    "\n",
    "        for two_num in twocount_list:\n",
    "            if two_num < 0 and -2 * two_num in plus_list:\n",
    "                return_list.append([two_num, two_num, -2 * two_num])\n",
    "            elif two_num > 0 and -2 * two_num in minus_list:\n",
    "                return_list.append([-2 * two_num, two_num, two_num])\n",
    "\n",
    "        for ind1 in range(len(minus_list)):\n",
    "            for ind2 in range(ind1 + 1, len(minus_list)):\n",
    "                if - minus_list[ind1] - minus_list[ind2] in plus_list:\n",
    "                    return_list.append([minus_list[ind1], minus_list[ind2], - minus_list[ind1] - minus_list[ind2]])\n",
    "\n",
    "        for ind1 in range(len(plus_list)):\n",
    "            for ind2 in range(ind1 + 1, len(plus_list)):\n",
    "                if - plus_list[ind1] - plus_list[ind2] in minus_list:\n",
    "                    return_list.append([- plus_list[ind1] - plus_list[ind2], plus_list[ind1], plus_list[ind2]])\n",
    "\n",
    "        return return_list"
   ]
  },
  {
   "cell_type": "code",
   "execution_count": 35,
   "metadata": {},
   "outputs": [
    {
     "data": {
      "text/plain": [
       "[[-4, 0, 4],\n",
       " [-3, 0, 3],\n",
       " [-2, 0, 2],\n",
       " [-1, 0, 1],\n",
       " [-1, -1, 2],\n",
       " [-3, -1, 4],\n",
       " [-2, -1, 3],\n",
       " [-3, 1, 2],\n",
       " [-4, 1, 3]]"
      ]
     },
     "execution_count": 35,
     "metadata": {},
     "output_type": "execute_result"
    }
   ],
   "source": [
    "nums = [-1,0,1,2,-1,-4]\n",
    "nums2 = [-1,0,1,2,-1,-4,-2,-3,3,0,4]\n",
    "S = Solution()\n",
    "S.threeSum(nums2)"
   ]
  },
  {
   "cell_type": "code",
   "execution_count": 7,
   "metadata": {},
   "outputs": [],
   "source": [
    "nums = [-1,0,1,2,-1,-4]"
   ]
  },
  {
   "cell_type": "code",
   "execution_count": 14,
   "metadata": {},
   "outputs": [
    {
     "name": "stdout",
     "output_type": "stream",
     "text": [
      "(-1, 2)\n",
      "(0, 1)\n",
      "(1, 1)\n",
      "(2, 1)\n",
      "(-4, 1)\n"
     ]
    }
   ],
   "source": [
    "import collections\n",
    "collections.Counter(a)\n",
    "b = [-1,0,1,2,-1,-4]\n",
    "a = []\n",
    "for n in collections.Counter(b).items():\n",
    "    print(n)\n"
   ]
  },
  {
   "cell_type": "code",
   "execution_count": null,
   "metadata": {},
   "outputs": [],
   "source": []
  }
 ],
 "metadata": {
  "kernelspec": {
   "display_name": "Python 3",
   "language": "python",
   "name": "python3"
  },
  "language_info": {
   "codemirror_mode": {
    "name": "ipython",
    "version": 3
   },
   "file_extension": ".py",
   "mimetype": "text/x-python",
   "name": "python",
   "nbconvert_exporter": "python",
   "pygments_lexer": "ipython3",
   "version": "3.8.5"
  }
 },
 "nbformat": 4,
 "nbformat_minor": 4
}
