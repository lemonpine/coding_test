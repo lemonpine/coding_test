{
 "cells": [
  {
   "cell_type": "markdown",
   "metadata": {},
   "source": [
    "https://leetcode.com/problems/reverse-string/submissions/"
   ]
  },
  {
   "cell_type": "code",
   "execution_count": 4,
   "metadata": {},
   "outputs": [],
   "source": [
    "# 200 ms\t18.5 MB\tpython3\n",
    "# Runtime: 200 ms, faster than 65.19% of Python3 online submissions for Reverse String.\n",
    "# Memory Usage: 18.5 MB, less than 83.58% of Python3 online submissions for Reverse String.\n",
    "\n",
    "class Solution:\n",
    "    def reverseString(self, s: List[str]) -> None:\n",
    "        \"\"\"\n",
    "        :type s: List[str]\n",
    "        :rtype: None Do not return anything, modify s in-place instead.\n",
    "        \"\"\"\n",
    "        \n",
    "        s[:] = s[::-1]"
   ]
  },
  {
   "cell_type": "code",
   "execution_count": 1,
   "metadata": {},
   "outputs": [],
   "source": [
    "# 212 ms\t18.6 MB\tpython3\n",
    "# Runtime: 212 ms, faster than 28.68% of Python3 online submissions for Reverse String.\n",
    "# Memory Usage: 18.6 MB, less than 44.19% of Python3 online submissions for Reverse String.\n",
    "\n",
    "class Solution:\n",
    "    def reverseString(self, s: List[str]) -> None:\n",
    "        \"\"\"\n",
    "        :type s: List[str]\n",
    "        :rtype: None Do not return anything, modify s in-place instead.\n",
    "        \"\"\"\n",
    "        c = int(len(s)/2)\n",
    "        for n in range(c):\n",
    "            s[n], s[len(s)-n-1] = s[len(s)-n-1], s[n]\n"
   ]
  },
  {
   "cell_type": "code",
   "execution_count": 2,
   "metadata": {},
   "outputs": [
    {
     "name": "stdout",
     "output_type": "stream",
     "text": [
      "['h', 'e', 'l', 'l', 'o']\n",
      "['o', 'l', 'l', 'e', 'h']\n"
     ]
    }
   ],
   "source": [
    "input1 = [\"h\",\"e\",\"l\",\"l\",\"o\"]\n",
    "S = Solution()\n",
    "S.reverseString(input1)"
   ]
  },
  {
   "cell_type": "code",
   "execution_count": null,
   "metadata": {},
   "outputs": [],
   "source": []
  }
 ],
 "metadata": {
  "kernelspec": {
   "display_name": "Python 3",
   "language": "python",
   "name": "python3"
  },
  "language_info": {
   "codemirror_mode": {
    "name": "ipython",
    "version": 3
   },
   "file_extension": ".py",
   "mimetype": "text/x-python",
   "name": "python",
   "nbconvert_exporter": "python",
   "pygments_lexer": "ipython3",
   "version": "3.8.5"
  }
 },
 "nbformat": 4,
 "nbformat_minor": 4
}
