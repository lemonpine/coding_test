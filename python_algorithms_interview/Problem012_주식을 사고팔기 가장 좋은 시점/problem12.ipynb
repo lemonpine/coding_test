{
 "cells": [
  {
   "cell_type": "markdown",
   "metadata": {},
   "source": [
    "https://leetcode.com/problems/best-time-to-buy-and-sell-stock/"
   ]
  },
  {
   "cell_type": "code",
   "execution_count": 13,
   "metadata": {},
   "outputs": [],
   "source": [
    "from typing import List\n",
    "import numpy as np\n",
    "class Solution:\n",
    "    def maxProfit(self, prices: List[int]) -> int:\n",
    "        result = 0\n",
    "        index_sort = np.argsort(prices1)\n",
    "        left, right = 0, len(prices) - 1\n",
    "        print(prices)\n",
    "        print(index_sort)\n",
    "        while left < right:\n",
    "            print(0, left, right)\n",
    "            while left < right and index_sort[left] > index_sort[right]:\n",
    "                right -= 1\n",
    "                print(1, left, right)\n",
    "            result = max(result, prices[right] - prices[left])\n",
    "            print('A', left, right)\n",
    "            while left < right and index_sort[left] < index_sort[right]:\n",
    "                left += 1\n",
    "                print(2, left, right)\n",
    "        \n",
    "        return result\n",
    "                \n",
    "            "
   ]
  },
  {
   "cell_type": "code",
   "execution_count": 58,
   "metadata": {},
   "outputs": [],
   "source": [
    "from typing import List\n",
    "import numpy as np\n",
    "class Solution:\n",
    "    def maxProfit(self, prices: List[int]) -> int:\n",
    "        result = 0\n",
    "        index_sort = np.argsort(prices)\n",
    "        print(index_sort)\n",
    "        barrier = len(prices)\n",
    "        print('barrier', barrier)\n",
    "        min_point = index_sort[0]\n",
    "        print('min_point', min_point)\n",
    "        bgo = True\n",
    "        while bgo:\n",
    "            max_point = np.where((index_sort > min_point) & (index_sort < barrier))[0][-1]\n",
    "            print('max_point', max_point)\n",
    "            result = max(result, prices[max_point] - prices[min_point])\n",
    "            barrier = min_point\n",
    "            print('barrier', barrier)\n",
    "            remain = np.where(index_sort < min_point)[0]\n",
    "            if len(remain) < 2:\n",
    "                bgo = False\n",
    "            else:\n",
    "                min_point = remain[0]\n",
    "            print('min_point', min_point)\n",
    "            \n",
    "        return result"
   ]
  },
  {
   "cell_type": "code",
   "execution_count": 63,
   "metadata": {},
   "outputs": [
    {
     "data": {
      "text/plain": [
       "1"
      ]
     },
     "execution_count": 63,
     "metadata": {},
     "output_type": "execute_result"
    }
   ],
   "source": [
    "prices1 = [7,1,5,3,6,4]\n",
    "prices1.index(max(prices1))\n",
    "prices1.index(min(prices1))"
   ]
  },
  {
   "cell_type": "code",
   "execution_count": 83,
   "metadata": {},
   "outputs": [],
   "source": [
    "# 9900 ms\t42 MB\tpython3\n",
    "# Runtime: 9900 ms, faster than 5.00% of Python3 online submissions for Best Time to Buy and Sell Stock.\n",
    "# Memory Usage: 42 MB, less than 5.26% of Python3 online submissions for Best Time to Buy and Sell Stock.\n",
    "from typing import List\n",
    "class Solution:\n",
    "    def maxProfit(self, prices: List[int]) -> int:\n",
    "        result = 0\n",
    "        min_ind = len(prices)\n",
    "        while min_ind > 0:\n",
    "            min_ind = prices[:min_ind].index(min(prices[:min_ind]))\n",
    "            max_ind = prices[min_ind:].index(max(prices[min_ind:]))\n",
    "            print('min_ind', min_ind, 'max_ind', max_ind + min_ind)\n",
    "            result = max(result, prices[min_ind + max_ind] - prices[min_ind])\n",
    "#             min_ind -= 1\n",
    "\n",
    "        return result\n",
    "        \n",
    "        "
   ]
  },
  {
   "cell_type": "code",
   "execution_count": 110,
   "metadata": {},
   "outputs": [],
   "source": [
    "# 1020 ms\t26.2 MB\tpython3\n",
    "# Runtime: 1020 ms, faster than 69.03% of Python3 online submissions for Best Time to Buy and Sell Stock.\n",
    "# Memory Usage: 26.2 MB, less than 5.26% of Python3 online submissions for Best Time to Buy and Sell Stock.\n",
    "import sys\n",
    "from typing import List\n",
    "class Solution:\n",
    "    def maxProfit(self, prices: List[int]) -> int:\n",
    "      \n",
    "        # local high and low point search\n",
    "        p = prices[0]\n",
    "        local_high, local_low = [], []\n",
    "        bup = False\n",
    "        for i in range(1, len(prices)):\n",
    "            if p < prices[i]:\n",
    "                if not bup:\n",
    "                    local_low.append(i - 1)\n",
    "                    bup = True\n",
    "            else:\n",
    "                if bup:\n",
    "                    local_high.append(i - 1)\n",
    "                    bup = False\n",
    "            p = prices[i]\n",
    "        if bup:\n",
    "            local_high.append(i)\n",
    "\n",
    "#         print(local_high, local_low)\n",
    "\n",
    "        result = 0\n",
    "        min_price = sys.maxsize\n",
    "        for i in range(len(local_high)):\n",
    "            min_price = min(min_price, prices[local_low[i]])\n",
    "#             print(min_price, local_high[i])\n",
    "            result = max(result, prices[local_high[i]] - min_price)\n",
    "        \n",
    "        return result"
   ]
  },
  {
   "cell_type": "code",
   "execution_count": 115,
   "metadata": {},
   "outputs": [],
   "source": [
    "# 1084 ms\t25.2 MB\tpython3\n",
    "# Runtime: 1084 ms, faster than 49.85% of Python3 online submissions for Best Time to Buy and Sell Stock.\n",
    "# Memory Usage: 25.2 MB, less than 53.82% of Python3 online submissions for Best Time to Buy and Sell Stock.\n",
    "import sys\n",
    "from typing import List\n",
    "class Solution:\n",
    "    def maxProfit(self, prices: List[int]) -> int:\n",
    "      \n",
    "        result = 0\n",
    "        min_price = sys.maxsize\n",
    "        for price in prices:\n",
    "            min_price = min(min_price, price)\n",
    "            result = max(result, price - min_price)\n",
    "        \n",
    "        return result"
   ]
  },
  {
   "cell_type": "code",
   "execution_count": 118,
   "metadata": {},
   "outputs": [],
   "source": [
    "# 944 ms\t25 MB\tpython3\n",
    "# Runtime: 944 ms, faster than 90.58% of Python3 online submissions for Best Time to Buy and Sell Stock.\n",
    "# Memory Usage: 25 MB, less than 81.89% of Python3 online submissions for Best Time to Buy and Sell Stock.\n",
    "import sys\n",
    "from typing import List\n",
    "class Solution:\n",
    "    def maxProfit(self, prices: List[int]) -> int:\n",
    "      \n",
    "        result = 0\n",
    "        min_price = sys.maxsize\n",
    "        prev_price = 0\n",
    "        for price in prices:\n",
    "            if min_price > price:\n",
    "                min_price = price\n",
    "            if prev_price < price:\n",
    "                result = max(result, price - min_price)\n",
    "            prev_price = price\n",
    "        return result"
   ]
  },
  {
   "cell_type": "code",
   "execution_count": 120,
   "metadata": {},
   "outputs": [
    {
     "data": {
      "text/plain": [
       "0"
      ]
     },
     "execution_count": 120,
     "metadata": {},
     "output_type": "execute_result"
    }
   ],
   "source": [
    "prices1 = [7,1,5,3,6,4]\n",
    "prices2 = [7,6,4,3,1]\n",
    "S = Solution()\n",
    "S.maxProfit(prices2)"
   ]
  },
  {
   "cell_type": "code",
   "execution_count": null,
   "metadata": {},
   "outputs": [],
   "source": []
  },
  {
   "cell_type": "code",
   "execution_count": 18,
   "metadata": {},
   "outputs": [],
   "source": [
    "import numpy as np\n",
    "prices1 = [5, 3,13,7,1,5,3,6,4]\n",
    "A = np.argsort(prices1)\n"
   ]
  },
  {
   "cell_type": "code",
   "execution_count": 24,
   "metadata": {},
   "outputs": [
    {
     "data": {
      "text/plain": [
       "4"
      ]
     },
     "execution_count": 24,
     "metadata": {},
     "output_type": "execute_result"
    }
   ],
   "source": [
    "len(np.where(A > 4)[0])"
   ]
  },
  {
   "cell_type": "code",
   "execution_count": null,
   "metadata": {},
   "outputs": [],
   "source": []
  }
 ],
 "metadata": {
  "kernelspec": {
   "display_name": "Python 3",
   "language": "python",
   "name": "python3"
  },
  "language_info": {
   "codemirror_mode": {
    "name": "ipython",
    "version": 3
   },
   "file_extension": ".py",
   "mimetype": "text/x-python",
   "name": "python",
   "nbconvert_exporter": "python",
   "pygments_lexer": "ipython3",
   "version": "3.8.5"
  }
 },
 "nbformat": 4,
 "nbformat_minor": 4
}
