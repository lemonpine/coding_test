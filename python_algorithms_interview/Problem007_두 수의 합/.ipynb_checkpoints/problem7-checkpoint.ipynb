{
 "cells": [
  {
   "cell_type": "markdown",
   "metadata": {},
   "source": [
    "https://leetcode.com/problems/two-sum/"
   ]
  },
  {
   "cell_type": "code",
   "execution_count": 14,
   "metadata": {},
   "outputs": [],
   "source": [
    "# 848 ms\t14.6 MB\tpython3\n",
    "# Runtime: 848 ms, faster than 33.83% of Python3 online submissions for Two Sum.\n",
    "# Memory Usage: 14.6 MB, less than 98.29% of Python3 online submissions for Two Sum.\n",
    "    \n",
    "from typing import List\n",
    "class Solution:\n",
    "    def twoSum(self, nums: List[int], target: int) -> List[int]:\n",
    "        \n",
    "        for i in sorted(nums):\n",
    "            if target - i in nums:\n",
    "                break\n",
    "        if i*2 == target:\n",
    "            return [nums.index(i), nums.index(target - i, nums.index(i)+1)]\n",
    "        else:\n",
    "            return [nums.index(i), nums.index(target - i)]\n",
    "        "
   ]
  },
  {
   "cell_type": "code",
   "execution_count": 1,
   "metadata": {},
   "outputs": [],
   "source": [
    "# 60 ms\t15.3 MB\tpython3\n",
    "# Runtime: 60 ms, faster than 76.88% of Python3 online submissions for Two Sum.\n",
    "# Memory Usage: 15.3 MB, less than 40.56% of Python3 online submissions for Two Sum.\n",
    "\n",
    "from typing import List\n",
    "class Solution:\n",
    "    def twoSum(self, nums: List[int], target: int) -> List[int]:\n",
    "        \n",
    "        possible_dict = {}\n",
    "        for n, value in enumerate(nums):\n",
    "            if target - value in possible_dict:\n",
    "                return [possible_dict[target - value], n]\n",
    "            possible_dict[value] = n"
   ]
  },
  {
   "cell_type": "code",
   "execution_count": 8,
   "metadata": {},
   "outputs": [],
   "source": [
    "# 60 ms\t15.3 MB\tpython3\n",
    "# Runtime: 60 ms, faster than 76.88% of Python3 online submissions for Two Sum.\n",
    "# Memory Usage: 15.3 MB, less than 40.56% of Python3 online submissions for Two Sum.\n",
    "\n",
    "from typing import List\n",
    "class Solution:\n",
    "    def twoSum(self, nums: List[int], target: int) -> List[int]:\n",
    "        \n",
    "        possible_dict = {}\n",
    "        for n, value in enumerate(nums):\n",
    "            if target - value in nums and target != 2*value:\n",
    "                return [n, nums.index(target - value)]\n",
    "            if target - value in possible_dict:\n",
    "                return [possible_dict[target - value], n]\n",
    "            possible_dict[value] = n"
   ]
  },
  {
   "cell_type": "code",
   "execution_count": 42,
   "metadata": {},
   "outputs": [],
   "source": [
    "# 832 ms\t14.8 MB\tpython3\n",
    "# Runtime: 832 ms, faster than 34.64% of Python3 online submissions for Two Sum.\n",
    "# Memory Usage: 14.8 MB, less than 80.84% of Python3 online submissions for Two Sum.\n",
    "    \n",
    "from typing import List\n",
    "import collections\n",
    "class Solution:\n",
    "    def twoSum(self, nums: List[int], target: int) -> List[int]:\n",
    "\n",
    "        if target/2 in nums and collections.Counter(nums)[target/2] >= 2:\n",
    "            return [nums.index(int(target/2)), nums.index(int(target/2), nums.index(int(target/2)) + 1)]\n",
    "\n",
    "        else:\n",
    "            for i in sorted(nums):\n",
    "                if target - i in nums:\n",
    "                    return [nums.index(i), nums.index(target - i)]"
   ]
  },
  {
   "cell_type": "code",
   "execution_count": 9,
   "metadata": {},
   "outputs": [
    {
     "data": {
      "text/plain": [
       "[1, 2]"
      ]
     },
     "execution_count": 9,
     "metadata": {},
     "output_type": "execute_result"
    }
   ],
   "source": [
    "# nums = [2,7,11,15]\n",
    "# target = 9\n",
    "nums = [3,2,4]\n",
    "target = 6\n",
    "# nums = [3,3]\n",
    "# target = 6\n",
    "\n",
    "S = Solution()\n",
    "S.twoSum(nums, target)"
   ]
  },
  {
   "cell_type": "code",
   "execution_count": 6,
   "metadata": {},
   "outputs": [
    {
     "name": "stdout",
     "output_type": "stream",
     "text": [
      "2\n",
      "7\n",
      "11\n",
      "15\n",
      "[7, 2, 11, 15]\n"
     ]
    }
   ],
   "source": [
    "nums = [7,2,11,15]\n",
    "\n",
    "for i in sorted(nums):\n",
    "    print(i)\n",
    "print(nums)"
   ]
  },
  {
   "cell_type": "code",
   "execution_count": 6,
   "metadata": {},
   "outputs": [
    {
     "ename": "AttributeError",
     "evalue": "'list' object has no attribute 'isvalue'",
     "output_type": "error",
     "traceback": [
      "\u001b[1;31m---------------------------------------------------------------------------\u001b[0m",
      "\u001b[1;31mAttributeError\u001b[0m                            Traceback (most recent call last)",
      "\u001b[1;32m<ipython-input-6-3169e25d828d>\u001b[0m in \u001b[0;36m<module>\u001b[1;34m\u001b[0m\n\u001b[1;32m----> 1\u001b[1;33m \u001b[0mnums\u001b[0m\u001b[1;33m.\u001b[0m\u001b[0misvalue\u001b[0m\u001b[1;33m(\u001b[0m\u001b[1;36m2\u001b[0m\u001b[1;33m)\u001b[0m\u001b[1;33m\u001b[0m\u001b[1;33m\u001b[0m\u001b[0m\n\u001b[0m",
      "\u001b[1;31mAttributeError\u001b[0m: 'list' object has no attribute 'isvalue'"
     ]
    }
   ],
   "source": [
    "nums.isvalue(2)"
   ]
  },
  {
   "cell_type": "code",
   "execution_count": null,
   "metadata": {},
   "outputs": [],
   "source": []
  }
 ],
 "metadata": {
  "kernelspec": {
   "display_name": "Python 3",
   "language": "python",
   "name": "python3"
  },
  "language_info": {
   "codemirror_mode": {
    "name": "ipython",
    "version": 3
   },
   "file_extension": ".py",
   "mimetype": "text/x-python",
   "name": "python",
   "nbconvert_exporter": "python",
   "pygments_lexer": "ipython3",
   "version": "3.8.5"
  }
 },
 "nbformat": 4,
 "nbformat_minor": 4
}
