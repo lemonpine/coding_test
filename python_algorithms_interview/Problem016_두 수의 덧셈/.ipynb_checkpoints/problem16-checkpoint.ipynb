{
 "cells": [
  {
   "cell_type": "markdown",
   "metadata": {},
   "source": [
    "https://leetcode.com/problems/add-two-numbers/"
   ]
  },
  {
   "cell_type": "code",
   "execution_count": 6,
   "metadata": {},
   "outputs": [],
   "source": [
    "# Definition for singly-linked list.\n",
    "class ListNode:\n",
    "    def __init__(self, val=0, next=None):\n",
    "        self.val = val\n",
    "        self.next = next"
   ]
  },
  {
   "cell_type": "code",
   "execution_count": 7,
   "metadata": {},
   "outputs": [],
   "source": [
    "# 72 ms\t14.4 MB\tpython3\n",
    "# Runtime: 72 ms, faster than 53.76% of Python3 online submissions for Add Two Numbers.\n",
    "# Memory Usage: 14.4 MB, less than 45.07% of Python3 online submissions for Add Two Numbers.\n",
    "from typing import Optional\n",
    "class Solution:\n",
    "    def addTwoNumbers(self, l1: Optional[ListNode], l2: Optional[ListNode]) -> Optional[ListNode]:\n",
    "        \n",
    "        head, tail = None, None\n",
    "        tmp = 0\n",
    "        while l1 and l2:\n",
    "            tmp, val = int((l1.val + l2.val + tmp) / 10), (l1.val + l2.val + tmp) % 10\n",
    "            if head is None:\n",
    "                tail = ListNode(val)\n",
    "                head = tail\n",
    "            else:\n",
    "                tmp_node = ListNode(val)\n",
    "                tail.next = tmp_node\n",
    "                tail = tmp_node\n",
    "            l1, l2 = l1.next, l2.next\n",
    "        \n",
    "        while l1:\n",
    "            tmp, val = int((l1.val + tmp) / 10), (l1.val + tmp) % 10\n",
    "            tmp_node = ListNode(val)\n",
    "            tail.next = tmp_node\n",
    "            tail = tmp_node\n",
    "            l1 = l1.next\n",
    "\n",
    "        while l2:\n",
    "            tmp, val = int((l2.val + tmp) / 10), (l2.val + tmp) % 10\n",
    "            tmp_node = ListNode(val)\n",
    "            tail.next = tmp_node\n",
    "            tail = tmp_node\n",
    "            l2 = l2.next\n",
    "        \n",
    "        if tmp:\n",
    "            tail.next = ListNode(tmp)\n",
    "        \n",
    "        return head\n",
    "            \n",
    "        "
   ]
  },
  {
   "cell_type": "code",
   "execution_count": null,
   "metadata": {},
   "outputs": [],
   "source": [
    "# 56 ms\t14.4 MB\tpython3\n",
    "# Runtime: 56 ms, faster than 98.96% of Python3 online submissions for Add Two Numbers.\n",
    "# Memory Usage: 14.4 MB, less than 45.07% of Python3 online submissions for Add Two Numbers.\n",
    "from typing import Optional\n",
    "class Solution:\n",
    "    def addTwoNumbers(self, l1: Optional[ListNode], l2: Optional[ListNode]) -> Optional[ListNode]:\n",
    "        \n",
    "        head, tail = None, None\n",
    "        tmp = 0\n",
    "        while l1 or l2:\n",
    "            val = tmp\n",
    "            if l1:\n",
    "                val += l1.val\n",
    "                l1 = l1.next\n",
    "            if l2:\n",
    "                val += l2.val\n",
    "                l2 = l2.next\n",
    "            tmp = int(val/10)  \n",
    "            val -= tmp*10\n",
    "            \n",
    "            if head is None:\n",
    "                tail = ListNode(val)\n",
    "                head = tail\n",
    "            else:\n",
    "                tmp_node = ListNode(val)\n",
    "                tail.next = tmp_node\n",
    "                tail = tmp_node\n",
    "\n",
    "        if tmp:\n",
    "            tail.next = ListNode(tmp)\n",
    "        \n",
    "        return head"
   ]
  },
  {
   "cell_type": "code",
   "execution_count": 4,
   "metadata": {},
   "outputs": [],
   "source": [
    "if 0:\n",
    "    print('haha')"
   ]
  },
  {
   "cell_type": "code",
   "execution_count": 17,
   "metadata": {},
   "outputs": [],
   "source": [
    "# head1 = [1,2,3,4,5]\n",
    "tmp1 = ListNode(1)\n",
    "tmp2 = ListNode(2)\n",
    "tmp3 = ListNode(3)\n",
    "tmp4 = ListNode(4)\n",
    "tmp5 = ListNode(5)\n",
    "tmp1.next = tmp2\n",
    "tmp2.next = tmp3\n",
    "tmp3.next = tmp4\n",
    "tmp4.next = tmp5\n",
    "head1 = tmp1\n",
    "\n",
    "# head2 = [1,2]\n",
    "tmp1 = ListNode(1)\n",
    "tmp2 = ListNode(2)\n",
    "tmp1.next = tmp2\n",
    "head2 = tmp1\n",
    "\n",
    "head3 = None\n",
    "   \n",
    "S = Solution()\n",
    "S.reverseList(head1)"
   ]
  },
  {
   "cell_type": "code",
   "execution_count": null,
   "metadata": {},
   "outputs": [],
   "source": []
  },
  {
   "cell_type": "code",
   "execution_count": 18,
   "metadata": {},
   "outputs": [],
   "source": [
    "import numpy as np\n",
    "prices1 = [5, 3,13,7,1,5,3,6,4]\n",
    "A = np.argsort(prices1)\n"
   ]
  },
  {
   "cell_type": "code",
   "execution_count": 24,
   "metadata": {},
   "outputs": [
    {
     "data": {
      "text/plain": [
       "4"
      ]
     },
     "execution_count": 24,
     "metadata": {},
     "output_type": "execute_result"
    }
   ],
   "source": [
    "len(np.where(A > 4)[0])"
   ]
  },
  {
   "cell_type": "code",
   "execution_count": null,
   "metadata": {},
   "outputs": [],
   "source": []
  }
 ],
 "metadata": {
  "kernelspec": {
   "display_name": "Python 3",
   "language": "python",
   "name": "python3"
  },
  "language_info": {
   "codemirror_mode": {
    "name": "ipython",
    "version": 3
   },
   "file_extension": ".py",
   "mimetype": "text/x-python",
   "name": "python",
   "nbconvert_exporter": "python",
   "pygments_lexer": "ipython3",
   "version": "3.8.5"
  }
 },
 "nbformat": 4,
 "nbformat_minor": 4
}
