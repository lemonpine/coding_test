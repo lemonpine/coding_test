{
 "cells": [
  {
   "cell_type": "markdown",
   "metadata": {},
   "source": [
    "https://leetcode.com/problems/swap-nodes-in-pairs/"
   ]
  },
  {
   "cell_type": "code",
   "execution_count": 1,
   "metadata": {},
   "outputs": [],
   "source": [
    "# Definition for singly-linked list.\n",
    "class ListNode:\n",
    "    def __init__(self, val=0, next=None):\n",
    "        self.val = val\n",
    "        self.next = next"
   ]
  },
  {
   "cell_type": "code",
   "execution_count": 7,
   "metadata": {},
   "outputs": [],
   "source": [
    "# 32 ms\t14.4 MB\tpython3\n",
    "# Runtime: 32 ms, faster than 63.44% of Python3 online submissions for Swap Nodes in Pairs.\n",
    "# Memory Usage: 14.4 MB, less than 16.01% of Python3 online submissions for Swap Nodes in Pairs.\n",
    "from typing import Optional\n",
    "class Solution:\n",
    "    def swapPairs(self, head: Optional[ListNode]) -> Optional[ListNode]:\n",
    "        \n",
    "        if head is None or head.next is None:\n",
    "            return head\n",
    "        \n",
    "        result, tail = None, None\n",
    "        while head and head.next:\n",
    "            First = ListNode(head.next.val)\n",
    "            Second = ListNode(head.val)\n",
    "            First.next = Second\n",
    "            head = head.next.next\n",
    "            if result is None:\n",
    "                tail = First\n",
    "                result = tail\n",
    "                tail = tail.next\n",
    "            else:\n",
    "                tail.next = First\n",
    "                tail = tail.next.next\n",
    "\n",
    "        tail.next = head\n",
    "        \n",
    "        return result\n",
    "        "
   ]
  },
  {
   "cell_type": "code",
   "execution_count": null,
   "metadata": {},
   "outputs": [],
   "source": [
    "# 24 ms\t14.1 MB\tpython3\n",
    "# Runtime: 24 ms, faster than 95.81% of Python3 online submissions for Swap Nodes in Pairs.\n",
    "# Memory Usage: 14.1 MB, less than 92.58% of Python3 online submissions for Swap Nodes in Pairs.\n",
    "from typing import Optional\n",
    "class Solution:\n",
    "    def swapPairs(self, head: Optional[ListNode]) -> Optional[ListNode]:\n",
    "        \n",
    "        if head and head.next:\n",
    "            tmp = head.next\n",
    "            head.next = self.swapPairs(tmp.next)\n",
    "            tmp.next = head\n",
    "            return tmp\n",
    "        return head\n"
   ]
  },
  {
   "cell_type": "code",
   "execution_count": 4,
   "metadata": {},
   "outputs": [],
   "source": [
    "if 0:\n",
    "    print('haha')"
   ]
  },
  {
   "cell_type": "code",
   "execution_count": 17,
   "metadata": {},
   "outputs": [],
   "source": [
    "# head1 = [1,2,3,4,5]\n",
    "tmp1 = ListNode(1)\n",
    "tmp2 = ListNode(2)\n",
    "tmp3 = ListNode(3)\n",
    "tmp4 = ListNode(4)\n",
    "tmp5 = ListNode(5)\n",
    "tmp1.next = tmp2\n",
    "tmp2.next = tmp3\n",
    "tmp3.next = tmp4\n",
    "tmp4.next = tmp5\n",
    "head1 = tmp1\n",
    "\n",
    "# head2 = [1,2]\n",
    "tmp1 = ListNode(1)\n",
    "tmp2 = ListNode(2)\n",
    "tmp1.next = tmp2\n",
    "head2 = tmp1\n",
    "\n",
    "head3 = None\n",
    "   \n",
    "S = Solution()\n",
    "S.reverseList(head1)"
   ]
  },
  {
   "cell_type": "code",
   "execution_count": null,
   "metadata": {},
   "outputs": [],
   "source": []
  },
  {
   "cell_type": "code",
   "execution_count": 18,
   "metadata": {},
   "outputs": [],
   "source": [
    "import numpy as np\n",
    "prices1 = [5, 3,13,7,1,5,3,6,4]\n",
    "A = np.argsort(prices1)\n"
   ]
  },
  {
   "cell_type": "code",
   "execution_count": 24,
   "metadata": {},
   "outputs": [
    {
     "data": {
      "text/plain": [
       "4"
      ]
     },
     "execution_count": 24,
     "metadata": {},
     "output_type": "execute_result"
    }
   ],
   "source": [
    "len(np.where(A > 4)[0])"
   ]
  },
  {
   "cell_type": "code",
   "execution_count": null,
   "metadata": {},
   "outputs": [],
   "source": []
  }
 ],
 "metadata": {
  "kernelspec": {
   "display_name": "Python 3",
   "language": "python",
   "name": "python3"
  },
  "language_info": {
   "codemirror_mode": {
    "name": "ipython",
    "version": 3
   },
   "file_extension": ".py",
   "mimetype": "text/x-python",
   "name": "python",
   "nbconvert_exporter": "python",
   "pygments_lexer": "ipython3",
   "version": "3.8.5"
  }
 },
 "nbformat": 4,
 "nbformat_minor": 4
}
