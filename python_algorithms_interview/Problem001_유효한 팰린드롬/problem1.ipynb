{
 "cells": [
  {
   "cell_type": "markdown",
   "metadata": {},
   "source": [
    "https://leetcode.com/problems/valid-palindrome/"
   ]
  },
  {
   "cell_type": "code",
   "execution_count": 4,
   "metadata": {},
   "outputs": [],
   "source": [
    "# 302 ms 14.7 MB python3\n",
    "# Runtime: 408 ms, faster than 5.08% of Python3 online submissions for Valid Palindrome.\n",
    "# Memory Usage: 15 MB, less than 37.03% of Python3 online submissions for Valid Palindrome.\n",
    "\n",
    "class Solution(object):\n",
    "    def isPalindrome(self, s) -> bool:\n",
    "\n",
    "        s = s.replace(' ', '')\n",
    "        list_str = list(s)\n",
    "\n",
    "        bPLDR = True\n",
    "        while len(list_str) > 1:\n",
    "            if list_str[0].isalnum():\n",
    "                if list_str[len(list_str) - 1].isalnum():\n",
    "                    if list_str[0].upper() != list_str[len(list_str) - 1].upper():\n",
    "                        bPLDR = False\n",
    "                        break\n",
    "                    else:\n",
    "                        list_str.pop(0)\n",
    "                        list_str.pop()\n",
    "                else:\n",
    "                    list_str.pop()\n",
    "            else:\n",
    "                list_str.pop(0)           \n",
    "\n",
    "        return bPLDR"
   ]
  },
  {
   "cell_type": "code",
   "execution_count": 2,
   "metadata": {},
   "outputs": [],
   "source": [
    "# 40 ms\t14.8 MB\tpython3\n",
    "# Runtime: 40 ms, faster than 89.27% of Python3 online submissions for Valid Palindrome.\n",
    "# Memory Usage: 14.8 MB, less than 46.38% of Python3 online submissions for Valid Palindrome.\n",
    "\n",
    "class Solution(object):\n",
    "    def isPalindrome(self, s) -> bool:\n",
    "\n",
    "        def isalnum(s):\n",
    "            return s.isalnum()\n",
    "        s = ''.join(filter(isalnum,s))\n",
    "        s = s.lower()\n",
    "\n",
    "        return s[int((len(s)+1)/2):] == s[:int((len(s))/2)][::-1]"
   ]
  },
  {
   "cell_type": "code",
   "execution_count": 6,
   "metadata": {},
   "outputs": [
    {
     "data": {
      "text/plain": [
       "True"
      ]
     },
     "execution_count": 6,
     "metadata": {},
     "output_type": "execute_result"
    }
   ],
   "source": [
    "Input1 = \"A man, a plan, a canal: Panama\"\n",
    "Input2 = \"race a car\"\n",
    "Input3 = \" \"\n",
    "\n",
    "S = Solution()\n",
    "S.isPalindrome(Input3)"
   ]
  },
  {
   "cell_type": "code",
   "execution_count": null,
   "metadata": {},
   "outputs": [],
   "source": []
  }
 ],
 "metadata": {
  "kernelspec": {
   "display_name": "Python 3",
   "language": "python",
   "name": "python3"
  },
  "language_info": {
   "codemirror_mode": {
    "name": "ipython",
    "version": 3
   },
   "file_extension": ".py",
   "mimetype": "text/x-python",
   "name": "python",
   "nbconvert_exporter": "python",
   "pygments_lexer": "ipython3",
   "version": "3.8.5"
  }
 },
 "nbformat": 4,
 "nbformat_minor": 4
}
