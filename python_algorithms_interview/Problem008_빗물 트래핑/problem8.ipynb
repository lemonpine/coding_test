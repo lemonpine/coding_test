{
 "cells": [
  {
   "cell_type": "markdown",
   "metadata": {},
   "source": [
    "https://leetcode.com/problems/trapping-rain-water"
   ]
  },
  {
   "cell_type": "code",
   "execution_count": 18,
   "metadata": {},
   "outputs": [],
   "source": [
    "# 3088 ms\t15.7 MB\tpython3\n",
    "# Runtime: 3096 ms, faster than 5.04% of Python3 online submissions for Trapping Rain Water.\n",
    "# Memory Usage: 15.9 MB, less than 12.43% of Python3 online submissions for Trapping Rain Water.\n",
    "\n",
    "from typing import List\n",
    "class Solution:\n",
    "    def trap(self, height: List[int]) -> int:\n",
    "        \n",
    "        water_sum = 0\n",
    "        left, right = height.index(max(height)), height.index(max(height))\n",
    "        \n",
    "        def high_point_search(l_bound, r_bound):\n",
    "            print(l_bound, '~', r_bound - 1)\n",
    "            return l_bound + height[l_bound:r_bound].index(max(height[l_bound:r_bound]))\n",
    "            \n",
    "        def sub_water(l_high, r_high):\n",
    "            minuses = 0\n",
    "            for i in range(l_high + 1, r_high):\n",
    "                minuses += height[i]\n",
    "            print('sub_water', min(height[l_high], height[r_high]) * (r_high - l_high - 1) - minuses)\n",
    "            return min(height[l_high], height[r_high]) * (r_high - l_high - 1) - minuses\n",
    "        \n",
    "        \n",
    "        # left search\n",
    "        while right > 0:\n",
    "            l_high_point = high_point_search(0, right)\n",
    "            water_sum += sub_water(l_high_point, right)\n",
    "            right = l_high_point\n",
    "        \n",
    "        # right search \n",
    "        # but, 가장 마지막 right를 찾도록 해야한다 \n",
    "        while left < len(height) - 1:\n",
    "            r_high_point = high_point_search(left + 1, len(height))\n",
    "            water_sum += sub_water(left, r_high_point)\n",
    "            left = r_high_point\n",
    "        \n",
    "        return water_sum\n",
    "        "
   ]
  },
  {
   "cell_type": "code",
   "execution_count": 19,
   "metadata": {},
   "outputs": [
    {
     "name": "stdout",
     "output_type": "stream",
     "text": [
      "0 ~ 6\n",
      "sub_water 4\n",
      "0 ~ 2\n",
      "sub_water 1\n",
      "0 ~ 0\n",
      "sub_water 0\n",
      "8 ~ 11\n",
      "sub_water 0\n",
      "9 ~ 11\n",
      "sub_water 1\n",
      "11 ~ 11\n",
      "sub_water 0\n"
     ]
    },
    {
     "data": {
      "text/plain": [
       "6"
      ]
     },
     "execution_count": 19,
     "metadata": {},
     "output_type": "execute_result"
    }
   ],
   "source": [
    "height = [0,1,0,2,1,0,1,3,2,1,2,1]\n",
    "\n",
    "S = Solution()\n",
    "S.trap(height)"
   ]
  },
  {
   "cell_type": "code",
   "execution_count": 8,
   "metadata": {},
   "outputs": [],
   "source": [
    "height2 = [0,1,0,3,1,0,1,3,2,1,2,1]"
   ]
  },
  {
   "cell_type": "code",
   "execution_count": 9,
   "metadata": {},
   "outputs": [
    {
     "name": "stdout",
     "output_type": "stream",
     "text": [
      "7\n",
      "3\n"
     ]
    }
   ],
   "source": [
    "print(height.index(max(height)))\n",
    "print(height2.index(max(height)))"
   ]
  },
  {
   "cell_type": "code",
   "execution_count": 13,
   "metadata": {},
   "outputs": [
    {
     "data": {
      "text/plain": [
       "0"
      ]
     },
     "execution_count": 13,
     "metadata": {},
     "output_type": "execute_result"
    }
   ],
   "source": [
    "height[7+1:12].index(max(height[7+1:12]))"
   ]
  },
  {
   "cell_type": "code",
   "execution_count": 16,
   "metadata": {},
   "outputs": [
    {
     "name": "stdout",
     "output_type": "stream",
     "text": [
      "2\n"
     ]
    }
   ],
   "source": [
    "for i in range(1+1, 3):\n",
    "    print(i)"
   ]
  },
  {
   "cell_type": "code",
   "execution_count": null,
   "metadata": {},
   "outputs": [],
   "source": []
  }
 ],
 "metadata": {
  "kernelspec": {
   "display_name": "Python 3",
   "language": "python",
   "name": "python3"
  },
  "language_info": {
   "codemirror_mode": {
    "name": "ipython",
    "version": 3
   },
   "file_extension": ".py",
   "mimetype": "text/x-python",
   "name": "python",
   "nbconvert_exporter": "python",
   "pygments_lexer": "ipython3",
   "version": "3.8.5"
  }
 },
 "nbformat": 4,
 "nbformat_minor": 4
}
